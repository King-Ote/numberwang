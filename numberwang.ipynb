{
 "cells": [
  {
   "cell_type": "code",
   "execution_count": null,
   "metadata": {
    "_cell_guid": "b1076dfc-b9ad-4769-8c92-a6c4dae69d19",
    "_uuid": "8f2839f25d086af736a60e9eeb907d3b93b6e0e5"
   },
   "outputs": [],
   "source": [
    "import numpy as np # linear algebra\n",
    "import pandas as pd # data processing, CSV file I/O (e.g. pd.read_csv)\n",
    "import matplotlib.pyplot as plt\n",
    "import torch\n",
    "import torch.nn as nn\n",
    "from torchvision import datasets, transforms\n",
    "from torch.utils.data import TensorDataset, DataLoader\n",
    "import torch.optim as optim\n",
    "from timeit import default_timer as timer\n",
    "\n",
    "# Input data files are available in the read-only \"../input/\" directory\n",
    "# For example, running this (by clicking run or pressing Shift+Enter) will list all files under the input directory\n",
    "\n",
    "device = torch.accelerator.current_accelerator().type if torch.accelerator.is_available() else \"cpu\"\n",
    "print(f\"Using {device} device\")"
   ]
  },
  {
   "cell_type": "code",
   "execution_count": null,
   "metadata": {},
   "outputs": [],
   "source": [
    "train_data_raw = pd.read_csv(\"./mnist_train/mnist_train.csv\")"
   ]
  },
  {
   "cell_type": "code",
   "execution_count": null,
   "metadata": {},
   "outputs": [],
   "source": [
    "normalize_transform = transforms.Compose([\n",
    "    transforms.Normalize((0.5,), (0.5,))\n",
    "])"
   ]
  },
  {
   "cell_type": "code",
   "execution_count": null,
   "metadata": {},
   "outputs": [],
   "source": [
    "train_data = (train_data_raw.drop('5', axis=1)).to_numpy()\n",
    "train_data = train_data.reshape(59999, 28, 28)\n",
    "train_data = np.expand_dims(train_data, axis=1)\n",
    "print(train_data.shape)"
   ]
  },
  {
   "cell_type": "code",
   "execution_count": null,
   "metadata": {},
   "outputs": [],
   "source": [
    "train_tensor_raw = torch.tensor(train_data, dtype=torch.float32)\n",
    "print(train_tensor_raw.shape)"
   ]
  },
  {
   "cell_type": "code",
   "execution_count": null,
   "metadata": {},
   "outputs": [],
   "source": [
    "train_tensor = normalize_transform(train_tensor_raw)"
   ]
  },
  {
   "cell_type": "code",
   "execution_count": null,
   "metadata": {},
   "outputs": [],
   "source": [
    "def show_image(image):\n",
    "    plt.imshow(image, cmap='gray')\n",
    "    plt.axis('off')\n",
    "    plt.show()"
   ]
  },
  {
   "cell_type": "code",
   "execution_count": null,
   "metadata": {},
   "outputs": [],
   "source": [
    "first_image = train_tensor[2][0].detach()\n",
    "show_image(first_image)"
   ]
  },
  {
   "cell_type": "code",
   "execution_count": null,
   "metadata": {},
   "outputs": [],
   "source": [
    "in_channels = 64\n",
    "feature_maps = 4\n",
    "out_channels = 1\n",
    "kernel_size = 4\n",
    "stride_def = 2"
   ]
  },
  {
   "cell_type": "code",
   "execution_count": null,
   "metadata": {},
   "outputs": [],
   "source": [
    "class Generator(nn.Module):\n",
    "    def __init__(self):\n",
    "        super(Generator, self).__init__()\n",
    "        self.net = nn.Sequential(\n",
    "            nn.ConvTranspose2d(in_channels, feature_maps*4, kernel_size),\n",
    "            nn.BatchNorm2d(feature_maps*4),\n",
    "            nn.ReLU(True),\n",
    "            nn.ConvTranspose2d(feature_maps*4, feature_maps*2, kernel_size, stride=stride_def, padding=1),\n",
    "            nn.BatchNorm2d(feature_maps*2),\n",
    "            nn.ReLU(True),\n",
    "            nn.ConvTranspose2d(feature_maps*2, out_channels, kernel_size, stride=stride_def, padding=1),\n",
    "            nn.Tanh()\n",
    "        )\n",
    "    def forward(self, x):\n",
    "        return self.net(x)"
   ]
  },
  {
   "cell_type": "code",
   "execution_count": null,
   "metadata": {},
   "outputs": [],
   "source": [
    "generator = Generator()\n",
    "\n",
    "# Figured out input dimension required to get target_dim sized output\n",
    "target_dim = 28\n",
    "gen_dim = target_dim\n",
    "for layer in reversed([l for l in generator.net]):\n",
    "    if hasattr(layer, 'kernel_size'):\n",
    "        gen_dim = 1 + (gen_dim + 2*layer.padding[0] - layer.dilation[0]*(layer.kernel_size[0]-1) - layer.output_padding[0] - 1)/layer.stride[0]\n",
    "\n",
    "print (gen_dim)\n",
    "if gen_dim == 0:\n",
    "    print (\"NET TOO BIG! CANNOT MAKE SMALL ENOUGH IMAGE FROM EVEN SINGLE PIXEL INPUT TENSOR\")\n",
    "gen_dim = int(gen_dim)"
   ]
  },
  {
   "cell_type": "code",
   "execution_count": null,
   "metadata": {},
   "outputs": [],
   "source": [
    "image_batch = 10\n",
    "input_tensor = torch.rand(image_batch, in_channels, gen_dim, gen_dim)\n",
    "\n",
    "output_tensor = generator(input_tensor)\n",
    "print(output_tensor.shape)\n",
    "output_image = output_tensor[4][0].detach().numpy()\n",
    "# show_image(output_image)"
   ]
  },
  {
   "cell_type": "code",
   "execution_count": null,
   "metadata": {},
   "outputs": [],
   "source": [
    "class Discriminator(nn.Module):\n",
    "    def __init__(self):\n",
    "        super(Discriminator, self).__init__()\n",
    "        self.net = nn.Sequential(\n",
    "            nn.Conv2d(out_channels, feature_maps, kernel_size),\n",
    "            nn.LeakyReLU(0.2, inplace=True),\n",
    "            nn.Conv2d(feature_maps, feature_maps*2, kernel_size, stride=stride_def),\n",
    "            nn.BatchNorm2d(feature_maps*2),\n",
    "            nn.LeakyReLU(0.2, inplace=True),\n",
    "            nn.Conv2d(feature_maps*2, feature_maps, kernel_size, stride=stride_def),\n",
    "            nn.BatchNorm2d(feature_maps),\n",
    "            nn.LeakyReLU(0.2, inplace=True),\n",
    "            nn.Conv2d(feature_maps, 1, kernel_size),\n",
    "            nn.Sigmoid()\n",
    "        )\n",
    "    def forward(self, x):\n",
    "        return self.net(x)"
   ]
  },
  {
   "cell_type": "code",
   "execution_count": null,
   "metadata": {},
   "outputs": [],
   "source": [
    "discriminator = Discriminator()\n",
    "x = discriminator(output_tensor)\n",
    "x.shape"
   ]
  },
  {
   "cell_type": "code",
   "execution_count": null,
   "metadata": {},
   "outputs": [],
   "source": [
    "lr = 0.0002\n",
    "beta1 = 0.5\n",
    "\n",
    "optimizer_G = optim.Adam(generator.parameters(), lr=lr, betas=(beta1, 0.999))\n",
    "optimizer_D = optim.Adam(discriminator.parameters(), lr=lr, betas=(beta1, 0.999))\n",
    "\n",
    "# Loss function\n",
    "criterion = nn.BCELoss()"
   ]
  },
  {
   "cell_type": "code",
   "execution_count": null,
   "metadata": {},
   "outputs": [],
   "source": [
    "dataset = TensorDataset(train_tensor)"
   ]
  },
  {
   "cell_type": "code",
   "execution_count": null,
   "metadata": {},
   "outputs": [],
   "source": [
    "dataloader = DataLoader(dataset, batch_size=5000, shuffle=True)"
   ]
  },
  {
   "cell_type": "code",
   "execution_count": null,
   "metadata": {},
   "outputs": [],
   "source": [
    "num_epochs = 5"
   ]
  },
  {
   "cell_type": "code",
   "execution_count": null,
   "metadata": {},
   "outputs": [],
   "source": [
    "for epoch in range(num_epochs):\n",
    "    print(\"Entering Epoch \" + str(epoch))\n",
    "    starttime = timer()\n",
    "    for i, real_images in enumerate(dataloader):\n",
    "        if i % 10 == 0:\n",
    "            print (f\"Working {i}th image\")\n",
    "            print (\"Wow that took \",timer()-starttime,\" seconds!\")\n",
    "            starttime = timer()\n",
    "        batch_size = real_images[0].size(0)\n",
    "\n",
    "        real_labels = torch.ones(batch_size, 1, 1, 1)\n",
    "        fake_labels = torch.zeros(batch_size, 1, 1, 1)\n",
    "\n",
    "        real_outputs = discriminator(real_images[0])\n",
    "        optimizer_D.zero_grad()\n",
    "        \n",
    "        d_loss_real = criterion(real_outputs, real_labels)\n",
    "\n",
    "        z = torch.randn(batch_size, in_channels, gen_dim, gen_dim)\n",
    "        fake_images = generator(z)      \n",
    "        fake_outputs = discriminator(fake_images.detach())\n",
    "        d_loss_fake = criterion(fake_outputs, fake_labels)\n",
    "\n",
    "        d_loss = d_loss_real + d_loss_fake\n",
    "        d_loss.backward()\n",
    "        optimizer_D.step()\n",
    "\n",
    "        optimizer_G.zero_grad()\n",
    "\n",
    "        fake_outputs = discriminator(fake_images)\n",
    "        g_loss = criterion(fake_outputs, real_labels)\n",
    "\n",
    "        g_loss.backward()\n",
    "        optimizer_G.step()"
   ]
  },
  {
   "cell_type": "code",
   "execution_count": null,
   "metadata": {},
   "outputs": [],
   "source": [
    "output_tensor2 = generator(input_tensor)\n",
    "output_image2 = output_tensor2[3][0].detach().numpy()\n",
    "show_image(output_image2)\n",
    "print(output_image2.shape)"
   ]
  },
  {
   "cell_type": "code",
   "execution_count": null,
   "metadata": {},
   "outputs": [],
   "source": [
    "input_tensor2 = torch.rand(image_batch, in_channels, gen_dim, gen_dim)"
   ]
  },
  {
   "cell_type": "code",
   "execution_count": null,
   "metadata": {},
   "outputs": [],
   "source": [
    "output_tensor3 = generator(input_tensor2)\n",
    "output_image3 = output_tensor3[3][0].detach().numpy()\n",
    "show_image(output_image3)\n",
    "print(output_image3.shape)"
   ]
  }
 ],
 "metadata": {
  "kaggle": {
   "accelerator": "nvidiaTeslaT4",
   "dataSources": [
    {
     "datasetId": 1865,
     "sourceId": 3234,
     "sourceType": "datasetVersion"
    }
   ],
   "dockerImageVersionId": 30918,
   "isGpuEnabled": true,
   "isInternetEnabled": false,
   "language": "python",
   "sourceType": "notebook"
  },
  "kernelspec": {
   "display_name": "Python [conda env:base] *",
   "language": "python",
   "name": "conda-base-py"
  },
  "language_info": {
   "codemirror_mode": {
    "name": "ipython",
    "version": 3
   },
   "file_extension": ".py",
   "mimetype": "text/x-python",
   "name": "python",
   "nbconvert_exporter": "python",
   "pygments_lexer": "ipython3",
   "version": "3.12.7"
  }
 },
 "nbformat": 4,
 "nbformat_minor": 4
}
